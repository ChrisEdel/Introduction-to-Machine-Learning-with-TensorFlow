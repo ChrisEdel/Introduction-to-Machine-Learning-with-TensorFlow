{
 "cells": [
  {
   "cell_type": "markdown",
   "metadata": {
    "colab_type": "text",
    "id": "y00b5TQZnqs_"
   },
   "source": [
    "# Your First AI application\n",
    "\n",
    "Going forward, AI algorithms will be incorporated into more and more everyday applications. For example, you might want to include an image classifier in a smart phone app. To do this, you'd use a deep learning model trained on hundreds of thousands of images as part of the overall application architecture. A large part of software development in the future will be using these types of models as common parts of applications. \n",
    "\n",
    "In this project, you'll train an image classifier to recognize different species of flowers. You can imagine using something like this in a phone app that tells you the name of the flower your camera is looking at. In practice you'd train this classifier, then export it for use in your application. We'll be using [this dataset](http://www.robots.ox.ac.uk/~vgg/data/flowers/102/index.html) from Oxford of 102 flower categories, you can see a few examples below. \n",
    "\n",
    "<img src='assets/Flowers.png' width=500px>\n",
    "\n",
    "The project is broken down into multiple steps:\n",
    "\n",
    "* Load the image dataset and create a pipeline.\n",
    "* Build and Train an image classifier on this dataset.\n",
    "* Use your trained model to perform inference on flower images.\n",
    "\n",
    "We'll lead you through each part which you'll implement in Python.\n",
    "\n",
    "When you've completed this project, you'll have an application that can be trained on any set of labeled images. Here your network will be learning about flowers and end up as a command line application. But, what you do with your new skills depends on your imagination and effort in building a dataset. For example, imagine an app where you take a picture of a car, it tells you what the make and model is, then looks up information about it. Go build your own dataset and make something new."
   ]
  },
  {
   "cell_type": "markdown",
   "metadata": {
    "colab_type": "text",
    "id": "kKnPjnLAftRV"
   },
   "source": [
    "## Import Resources"
   ]
  },
  {
   "cell_type": "code",
   "execution_count": 42,
   "metadata": {
    "colab": {},
    "colab_type": "code",
    "id": "2dCk6873paNW"
   },
   "outputs": [
    {
     "name": "stdout",
     "output_type": "stream",
     "text": [
      "Requirement already satisfied: tensorflow_datasets in /Users/chris/miniforge3/envs/tf/lib/python3.9/site-packages (4.5.0)\n",
      "Requirement already satisfied: tqdm in /Users/chris/miniforge3/envs/tf/lib/python3.9/site-packages (from tensorflow_datasets) (4.62.3)\n",
      "Requirement already satisfied: protobuf>=3.12.2 in /Users/chris/miniforge3/envs/tf/lib/python3.9/site-packages (from tensorflow_datasets) (3.18.1)\n",
      "Requirement already satisfied: absl-py in /Users/chris/miniforge3/envs/tf/lib/python3.9/site-packages (from tensorflow_datasets) (0.15.0)\n",
      "Requirement already satisfied: six in /Users/chris/miniforge3/envs/tf/lib/python3.9/site-packages (from tensorflow_datasets) (1.15.0)\n",
      "Requirement already satisfied: termcolor in /Users/chris/miniforge3/envs/tf/lib/python3.9/site-packages (from tensorflow_datasets) (1.1.0)\n",
      "Requirement already satisfied: numpy in /Users/chris/miniforge3/envs/tf/lib/python3.9/site-packages (from tensorflow_datasets) (1.19.5)\n",
      "Requirement already satisfied: dill in /Users/chris/miniforge3/envs/tf/lib/python3.9/site-packages (from tensorflow_datasets) (0.3.4)\n",
      "Requirement already satisfied: requests>=2.19.0 in /Users/chris/miniforge3/envs/tf/lib/python3.9/site-packages (from tensorflow_datasets) (2.27.1)\n",
      "Requirement already satisfied: promise in /Users/chris/miniforge3/envs/tf/lib/python3.9/site-packages (from tensorflow_datasets) (2.3)\n",
      "Requirement already satisfied: tensorflow-metadata in /Users/chris/miniforge3/envs/tf/lib/python3.9/site-packages (from tensorflow_datasets) (1.6.0)\n",
      "Requirement already satisfied: charset-normalizer~=2.0.0 in /Users/chris/miniforge3/envs/tf/lib/python3.9/site-packages (from requests>=2.19.0->tensorflow_datasets) (2.0.10)\n",
      "Requirement already satisfied: urllib3<1.27,>=1.21.1 in /Users/chris/miniforge3/envs/tf/lib/python3.9/site-packages (from requests>=2.19.0->tensorflow_datasets) (1.26.8)\n",
      "Requirement already satisfied: idna<4,>=2.5 in /Users/chris/miniforge3/envs/tf/lib/python3.9/site-packages (from requests>=2.19.0->tensorflow_datasets) (3.3)\n",
      "Requirement already satisfied: certifi>=2017.4.17 in /Users/chris/miniforge3/envs/tf/lib/python3.9/site-packages (from requests>=2.19.0->tensorflow_datasets) (2021.10.8)\n",
      "Requirement already satisfied: googleapis-common-protos<2,>=1.52.0 in /Users/chris/miniforge3/envs/tf/lib/python3.9/site-packages (from tensorflow-metadata->tensorflow_datasets) (1.54.0)\n",
      "Requirement already satisfied: numpy in /Users/chris/miniforge3/envs/tf/lib/python3.9/site-packages (1.19.5)\n",
      "Requirement already satisfied: matplotlib in /Users/chris/miniforge3/envs/tf/lib/python3.9/site-packages (3.5.1)\n",
      "Requirement already satisfied: packaging>=20.0 in /Users/chris/miniforge3/envs/tf/lib/python3.9/site-packages (from matplotlib) (21.3)\n",
      "Requirement already satisfied: kiwisolver>=1.0.1 in /Users/chris/miniforge3/envs/tf/lib/python3.9/site-packages (from matplotlib) (1.3.2)\n",
      "Requirement already satisfied: cycler>=0.10 in /Users/chris/miniforge3/envs/tf/lib/python3.9/site-packages (from matplotlib) (0.11.0)\n",
      "Requirement already satisfied: fonttools>=4.22.0 in /Users/chris/miniforge3/envs/tf/lib/python3.9/site-packages (from matplotlib) (4.29.0)\n",
      "Requirement already satisfied: pillow>=6.2.0 in /Users/chris/miniforge3/envs/tf/lib/python3.9/site-packages (from matplotlib) (9.0.0)\n",
      "Requirement already satisfied: pyparsing>=2.2.1 in /Users/chris/miniforge3/envs/tf/lib/python3.9/site-packages (from matplotlib) (3.0.7)\n",
      "Requirement already satisfied: python-dateutil>=2.7 in /Users/chris/miniforge3/envs/tf/lib/python3.9/site-packages (from matplotlib) (2.8.2)\n",
      "Requirement already satisfied: numpy>=1.17 in /Users/chris/miniforge3/envs/tf/lib/python3.9/site-packages (from matplotlib) (1.19.5)\n",
      "Requirement already satisfied: six>=1.5 in /Users/chris/miniforge3/envs/tf/lib/python3.9/site-packages (from python-dateutil>=2.7->matplotlib) (1.15.0)\n"
     ]
    }
   ],
   "source": [
    "# TODO: Make all necessary imports.\n",
    "import tensorflow as tf\n",
    "!pip install tensorflow_datasets\n",
    "!pip install numpy\n",
    "!pip install matplotlib\n",
    "import numpy as np\n",
    "import matplotlib.pyplot as plt\n",
    "import json\n",
    "\n",
    "import tensorflow_datasets as tfds\n",
    "\n",
    "from tensorflow.keras.preprocessing.image import ImageDataGenerator"
   ]
  },
  {
   "cell_type": "markdown",
   "metadata": {
    "colab_type": "text",
    "id": "tWKF0YOarpCx"
   },
   "source": [
    "## Load the Dataset\n",
    "\n",
    "Here you'll use `tensorflow_datasets` to load the [Oxford Flowers 102 dataset](https://www.tensorflow.org/datasets/catalog/oxford_flowers102). This dataset has 3 splits: `'train'`, `'test'`, and `'validation'`.  You'll also need to make sure the training data is normalized and resized to 224x224 pixels as required by the pre-trained networks.\n",
    "\n",
    "The validation and testing sets are used to measure the model's performance on data it hasn't seen yet, but you'll still need to normalize and resize the images to the appropriate size."
   ]
  },
  {
   "cell_type": "code",
   "execution_count": 43,
   "metadata": {
    "colab": {
     "base_uri": "https://localhost:8080/",
     "height": 1000
    },
    "colab_type": "code",
    "id": "vXISRjfdrrQ6",
    "outputId": "6edf59b2-b468-4c4a-cff4-7cc7cfcc3c2d"
   },
   "outputs": [],
   "source": [
    "# TODO: Load the dataset with TensorFlow Datasets.\n",
    "dataset, dataset_info = tfds.load('OxfordFlowers102', as_supervised = True, with_info = True)\n",
    "\n",
    "def format_image(image, label):\n",
    "    image = tf.cast(image, tf.float32)\n",
    "    image = tf.image.resize(image, (224, 224))\n",
    "    image /= 255\n",
    "    return image, label\n",
    "\n",
    "# TODO: Create a training set, a validation set and a test set.\n",
    "training_set = dataset['train'].map(format_image)\n",
    "test_set = dataset['test']\n",
    "validation_test = dataset['validation']"
   ]
  },
  {
   "cell_type": "markdown",
   "metadata": {
    "colab_type": "text",
    "id": "S5pdQnDbf0-j"
   },
   "source": [
    "## Explore the Dataset"
   ]
  },
  {
   "cell_type": "code",
   "execution_count": 44,
   "metadata": {
    "colab": {
     "base_uri": "https://localhost:8080/",
     "height": 102
    },
    "colab_type": "code",
    "id": "XikJ4X7FUv8v",
    "outputId": "10240009-1148-41ae-8ce0-4025c2f2fa87"
   },
   "outputs": [
    {
     "name": "stdout",
     "output_type": "stream",
     "text": [
      "Number of examples in training set: 1020\n",
      "Number of examples in validation set: 1020\n",
      "Number of examples in test set: 6149\n",
      "Number of classes in the dataset: 102\n"
     ]
    }
   ],
   "source": [
    "# TODO: Get the number of examples in each set from the dataset info.\n",
    "num_training_examples = dataset_info.splits['train'].num_examples\n",
    "num_validation_examples = dataset_info.splits['validation'].num_examples\n",
    "num_test_examples = dataset_info.splits['test'].num_examples\n",
    "\n",
    "print(\"Number of examples in training set: {}\".format(num_training_examples))\n",
    "print(\"Number of examples in validation set: {}\".format(num_validation_examples))\n",
    "print(\"Number of examples in test set: {}\".format(num_test_examples))\n",
    "\n",
    "# TODO: Get the number of classes in the dataset from the dataset info.\n",
    "num_classes = dataset_info.features['label'].num_classes\n",
    "\n",
    "\n",
    "print(\"Number of classes in the dataset: {}\".format(num_classes))"
   ]
  },
  {
   "cell_type": "code",
   "execution_count": 45,
   "metadata": {
    "colab": {
     "base_uri": "https://localhost:8080/",
     "height": 68
    },
    "colab_type": "code",
    "id": "CWR9ScCbPI_D",
    "outputId": "fdf01c8d-2db9-4d7c-a566-4db2599fd1ab"
   },
   "outputs": [
    {
     "name": "stdout",
     "output_type": "stream",
     "text": [
      "Image shape: (224, 224, 3)\n",
      "Image label: 72\n",
      "Image shape: (224, 224, 3)\n",
      "Image label: 84\n",
      "Image shape: (224, 224, 3)\n",
      "Image label: 70\n"
     ]
    }
   ],
   "source": [
    "# TODO: Print the shape and corresponding label of 3 images in the training set.\n",
    "for image, label in training_set.take(3):\n",
    "    image = image.numpy()\n",
    "    label = label.numpy()\n",
    "    \n",
    "    print(\"Image shape: {}\".format(image.shape))\n",
    "    print(\"Image label: {}\".format(label))"
   ]
  },
  {
   "cell_type": "code",
   "execution_count": 46,
   "metadata": {
    "colab": {
     "base_uri": "https://localhost:8080/",
     "height": 280
    },
    "colab_type": "code",
    "id": "DQbnq8htRTnl",
    "outputId": "32a0e1af-2b04-440e-ddb4-835732be3e83"
   },
   "outputs": [
    {
     "data": {
      "image/png": "[encoded data removed]",
      "text/plain": [
       "<Figure size 432x288 with 1 Axes>"
      ]
     },
     "metadata": {
      "needs_background": "light"
     },
     "output_type": "display_data"
    }
   ],
   "source": [
    "# TODO: Plot 1 image from the training set. Set the title \n",
    "# of the plot to the corresponding image label.\n",
    "for image, label in training_set.take(1):\n",
    "    image = image.numpy()\n",
    "    label = label.numpy()\n",
    "\n",
    "plt.imshow(image)\n",
    "plt.title(label)\n",
    "plt.show()"
   ]
  },
  {
   "cell_type": "markdown",
   "metadata": {
    "colab_type": "text",
    "id": "zuh1841cs-j1"
   },
   "source": [
    "### Label Mapping\n",
    "\n",
    "You'll also need to load in a mapping from label to category name. You can find this in the file `label_map.json`. It's a JSON object which you can read in with the [`json` module](https://docs.python.org/3.7/library/json.html). This will give you a dictionary mapping the integer coded labels to the actual names of the flowers."
   ]
  },
  {
   "cell_type": "code",
   "execution_count": 47,
   "metadata": {
    "colab": {},
    "colab_type": "code",
    "id": "JoVzdO3KsdSk"
   },
   "outputs": [],
   "source": [
    "with open('label_map.json', 'r') as f:\n",
    "    class_names = json.load(f)"
   ]
  },
  {
   "cell_type": "code",
   "execution_count": null,
   "metadata": {
    "colab": {
     "base_uri": "https://localhost:8080/",
     "height": 280
    },
    "colab_type": "code",
    "id": "fc6pMUZgEvUo",
    "outputId": "4274fd43-5cee-4523-885f-a18f6f277dd6"
   },
   "outputs": [],
   "source": [
    "# TODO: Plot 1 image from the training set. Set the title \n",
    "# of the plot to the corresponding class name. \n",
    "\n"
   ]
  },
  {
   "cell_type": "markdown",
   "metadata": {
    "colab_type": "text",
    "id": "0gL7AaqNf-NC"
   },
   "source": [
    "## Create Pipeline"
   ]
  },
  {
   "cell_type": "code",
   "execution_count": null,
   "metadata": {
    "colab": {
     "base_uri": "https://localhost:8080/",
     "height": 88
    },
    "colab_type": "code",
    "id": "5hNznLbPNZxS",
    "outputId": "7c114910-b75f-4220-cda9-f84426ec2728"
   },
   "outputs": [],
   "source": [
    "# TODO: Create a pipeline for each set.\n",
    "\n"
   ]
  },
  {
   "cell_type": "markdown",
   "metadata": {
    "colab_type": "text",
    "id": "gR9gtRbeXPYx"
   },
   "source": [
    "# Build and Train the Classifier\n",
    "\n",
    "Now that the data is ready, it's time to build and train the classifier. You should use the MobileNet pre-trained model from TensorFlow Hub to get the image features. Build and train a new feed-forward classifier using those features.\n",
    "\n",
    "We're going to leave this part up to you. If you want to talk through it with someone, chat with your fellow students! \n",
    "\n",
    "Refer to the rubric for guidance on successfully completing this section. Things you'll need to do:\n",
    "\n",
    "* Load the MobileNet pre-trained network from TensorFlow Hub.\n",
    "* Define a new, untrained feed-forward network as a classifier.\n",
    "* Train the classifier.\n",
    "* Plot the loss and accuracy values achieved during training for the training and validation set.\n",
    "* Save your trained model as a Keras model. \n",
    "\n",
    "We've left a cell open for you below, but use as many as you need. Our advice is to break the problem up into smaller parts you can run separately. Check that each part is doing what you expect, then move on to the next. You'll likely find that as you work through each part, you'll need to go back and modify your previous code. This is totally normal!\n",
    "\n",
    "When training make sure you're updating only the weights of the feed-forward network. You should be able to get the validation accuracy above 70% if you build everything right.\n",
    "\n",
    "**Note for Workspace users:** One important tip if you're using the workspace to run your code: To avoid having your workspace disconnect during the long-running tasks in this notebook, please read in the earlier page in this lesson called Intro to GPU Workspaces about Keeping Your Session Active. You'll want to include code from the workspace_utils.py module. Also, If your model is over 1 GB when saved as a checkpoint, there might be issues with saving backups in your workspace. If your saved checkpoint is larger than 1 GB (you can open a terminal and check with `ls -lh`), you should reduce the size of your hidden layers and train again."
   ]
  },
  {
   "cell_type": "code",
   "execution_count": null,
   "metadata": {
    "colab": {},
    "colab_type": "code",
    "id": "4zElEHViXLni"
   },
   "outputs": [],
   "source": [
    "# TODO: Build and train your network.\n",
    "\n"
   ]
  },
  {
   "cell_type": "code",
   "execution_count": null,
   "metadata": {
    "colab": {
     "base_uri": "https://localhost:8080/",
     "height": 498
    },
    "colab_type": "code",
    "id": "VU6sWzx4e7Yb",
    "outputId": "f7b5c7c5-683a-463c-9228-68c4918bdd5b"
   },
   "outputs": [],
   "source": [
    "# TODO: Plot the loss and accuracy values achieved during training for the training and validation set.\n",
    "\n"
   ]
  },
  {
   "cell_type": "markdown",
   "metadata": {
    "colab_type": "text",
    "id": "qcTDnyvop3ky"
   },
   "source": [
    "## Testing your Network\n",
    "\n",
    "It's good practice to test your trained network on test data, images the network has never seen either in training or validation. This will give you a good estimate for the model's performance on completely new images. You should be able to reach around 70% accuracy on the test set if the model has been trained well."
   ]
  },
  {
   "cell_type": "code",
   "execution_count": null,
   "metadata": {
    "colab": {
     "base_uri": "https://localhost:8080/",
     "height": 85
    },
    "colab_type": "code",
    "id": "79l7-HM1cafO",
    "outputId": "6cf468a4-1e27-4f20-d63a-a8bdd78bcdbe"
   },
   "outputs": [],
   "source": [
    "# TODO: Print the loss and accuracy values achieved on the entire test set.\n",
    "\n"
   ]
  },
  {
   "cell_type": "markdown",
   "metadata": {
    "colab_type": "text",
    "id": "pLsIDWnuqfkl"
   },
   "source": [
    "## Save the Model\n",
    "\n",
    "Now that your network is trained, save the model so you can load it later for making inference. In the cell below save your model as a Keras model (*i.e.* save it as an HDF5 file)."
   ]
  },
  {
   "cell_type": "code",
   "execution_count": null,
   "metadata": {
    "colab": {},
    "colab_type": "code",
    "id": "7XOwdOjSptp-"
   },
   "outputs": [],
   "source": [
    "# TODO: Save your trained model as a Keras model.\n",
    "\n"
   ]
  },
  {
   "cell_type": "markdown",
   "metadata": {
    "colab_type": "text",
    "id": "rbeLSRC1rxuj"
   },
   "source": [
    "## Load the Keras Model\n",
    "\n",
    "Load the Keras model you saved above."
   ]
  },
  {
   "cell_type": "code",
   "execution_count": null,
   "metadata": {
    "colab": {
     "base_uri": "https://localhost:8080/",
     "height": 394
    },
    "colab_type": "code",
    "id": "3T6Dgc7Nrzds",
    "outputId": "f5d356dc-183f-4cd3-f15d-88ebb4966082"
   },
   "outputs": [],
   "source": [
    "# TODO: Load the Keras model\n",
    "\n"
   ]
  },
  {
   "cell_type": "markdown",
   "metadata": {
    "colab_type": "text",
    "id": "ZjucwuFrsyhJ"
   },
   "source": [
    "# Inference for Classification\n",
    "\n",
    "Now you'll write a function that uses your trained network for inference. Write a function called `predict` that takes an image, a model, and then returns the top $K$ most likely class labels along with the probabilities. The function call should look like: \n",
    "\n",
    "```python\n",
    "probs, classes = predict(image_path, model, top_k)\n",
    "```\n",
    "\n",
    "If `top_k=5` the output of the `predict` function should be something like this:\n",
    "\n",
    "```python\n",
    "probs, classes = predict(image_path, model, 5)\n",
    "print(probs)\n",
    "print(classes)\n",
    "> [ 0.01558163  0.01541934  0.01452626  0.01443549  0.01407339]\n",
    "> ['70', '3', '45', '62', '55']\n",
    "```\n",
    "\n",
    "Your `predict` function should use `PIL` to load the image from the given `image_path`. You can use the [Image.open](https://pillow.readthedocs.io/en/latest/reference/Image.html#PIL.Image.open) function to load the images. The `Image.open()` function returns an `Image` object. You can convert this `Image` object to a NumPy array by using the `np.asarray()` function.\n",
    "\n",
    "The `predict` function will also need to handle pre-processing the input image such that it can be used by your model. We recommend you write a separate function called `process_image` that performs the pre-processing. You can then call the `process_image` function from the `predict` function. \n",
    "\n",
    "### Image Pre-processing\n",
    "\n",
    "The `process_image` function should take in an image (in the form of a NumPy array) and return an image in the form of a NumPy array with shape `(224, 224, 3)`.\n",
    "\n",
    "First, you should convert your image into a TensorFlow Tensor and then resize it to the appropriate size using `tf.image.resize`.\n",
    "\n",
    "Second, the pixel values of the input images are typically encoded as integers in the range 0-255, but the model expects the pixel values to be floats in the range 0-1. Therefore, you'll also need to normalize the pixel values. \n",
    "\n",
    "Finally, convert your image back to a NumPy array using the `.numpy()` method."
   ]
  },
  {
   "cell_type": "code",
   "execution_count": null,
   "metadata": {
    "colab": {},
    "colab_type": "code",
    "id": "oG7mJ1-5s1qe"
   },
   "outputs": [],
   "source": [
    "# TODO: Create the process_image function\n",
    "\n"
   ]
  },
  {
   "cell_type": "markdown",
   "metadata": {},
   "source": [
    "To check your `process_image` function we have provided 4 images in the `./test_images/` folder:\n",
    "\n",
    "* cautleya_spicata.jpg\n",
    "* hard-leaved_pocket_orchid.jpg\n",
    "* orange_dahlia.jpg\n",
    "* wild_pansy.jpg\n",
    "\n",
    "The code below loads one of the above images using `PIL` and plots the original image alongside the image produced by your `process_image` function. If your `process_image` function works, the plotted image should be the correct size. "
   ]
  },
  {
   "cell_type": "code",
   "execution_count": null,
   "metadata": {},
   "outputs": [],
   "source": [
    "from PIL import Image\n",
    "\n",
    "image_path = './test_images/hard-leaved_pocket_orchid.jpg'\n",
    "im = Image.open(image_path)\n",
    "test_image = np.asarray(im)\n",
    "\n",
    "processed_test_image = process_image(test_image)\n",
    "\n",
    "fig, (ax1, ax2) = plt.subplots(figsize=(10,10), ncols=2)\n",
    "ax1.imshow(test_image)\n",
    "ax1.set_title('Original Image')\n",
    "ax2.imshow(processed_test_image)\n",
    "ax2.set_title('Processed Image')\n",
    "plt.tight_layout()\n",
    "plt.show()"
   ]
  },
  {
   "cell_type": "markdown",
   "metadata": {},
   "source": [
    "Once you can get images in the correct format, it's time to write the `predict` function for making inference with your model.\n",
    "\n",
    "### Inference\n",
    "\n",
    "Remember, the `predict` function should take an image, a model, and then returns the top $K$ most likely class labels along with the probabilities. The function call should look like: \n",
    "\n",
    "```python\n",
    "probs, classes = predict(image_path, model, top_k)\n",
    "```\n",
    "\n",
    "If `top_k=5` the output of the `predict` function should be something like this:\n",
    "\n",
    "```python\n",
    "probs, classes = predict(image_path, model, 5)\n",
    "print(probs)\n",
    "print(classes)\n",
    "> [ 0.01558163  0.01541934  0.01452626  0.01443549  0.01407339]\n",
    "> ['70', '3', '45', '62', '55']\n",
    "```\n",
    "\n",
    "Your `predict` function should use `PIL` to load the image from the given `image_path`. You can use the [Image.open](https://pillow.readthedocs.io/en/latest/reference/Image.html#PIL.Image.open) function to load the images. The `Image.open()` function returns an `Image` object. You can convert this `Image` object to a NumPy array by using the `np.asarray()` function.\n",
    "\n",
    "**Note:** The image returned by the `process_image` function is a NumPy array with shape `(224, 224, 3)` but the model expects the input images to be of shape `(1, 224, 224, 3)`. This extra dimension represents the batch size. We suggest you use the `np.expand_dims()` function to add the extra dimension. "
   ]
  },
  {
   "cell_type": "code",
   "execution_count": null,
   "metadata": {
    "colab": {},
    "colab_type": "code",
    "id": "SBnPKFJuGB32"
   },
   "outputs": [],
   "source": [
    "# TODO: Create the predict function\n",
    "\n"
   ]
  },
  {
   "cell_type": "markdown",
   "metadata": {
    "colab_type": "text",
    "id": "aft8f_n5C7Co"
   },
   "source": [
    "# Sanity Check\n",
    "\n",
    "It's always good to check the predictions made by your model to make sure they are correct. To check your predictions we have provided 4 images in the `./test_images/` folder:\n",
    "\n",
    "* cautleya_spicata.jpg\n",
    "* hard-leaved_pocket_orchid.jpg\n",
    "* orange_dahlia.jpg\n",
    "* wild_pansy.jpg\n",
    "\n",
    "In the cell below use `matplotlib` to plot the input image alongside the probabilities for the top 5 classes predicted by your model. Plot the probabilities as a bar graph. The plot should look like this:\n",
    "\n",
    "<img src='assets/inference_example.png' width=600px>\n",
    "\n",
    "You can convert from the class integer labels to actual flower names using `class_names`. "
   ]
  },
  {
   "cell_type": "code",
   "execution_count": null,
   "metadata": {
    "colab": {
     "base_uri": "https://localhost:8080/",
     "height": 336
    },
    "colab_type": "code",
    "id": "I_tBH8xGGVxQ",
    "outputId": "ef0fe795-65f3-49c5-fab0-086fac7d409d"
   },
   "outputs": [],
   "source": [
    "# TODO: Plot the input image along with the top 5 classes\n"
   ]
  }
 ],
 "metadata": {
  "accelerator": "GPU",
  "colab": {
   "collapsed_sections": [],
   "name": "Project - Image Classifier Project.ipynb",
   "provenance": []
  },
  "kernelspec": {
   "display_name": "Python 3 (ipykernel)",
   "language": "python",
   "name": "python3"
  },
  "language_info": {
   "codemirror_mode": {
    "name": "ipython",
    "version": 3
   },
   "file_extension": ".py",
   "mimetype": "text/x-python",
   "name": "python",
   "nbconvert_exporter": "python",
   "pygments_lexer": "ipython3",
   "version": "3.9.10"
  }
 },
 "nbformat": 4,
 "nbformat_minor": 1
}
